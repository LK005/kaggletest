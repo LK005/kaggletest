{
 "cells": [
  {
   "cell_type": "code",
   "execution_count": 14,
   "metadata": {},
   "outputs": [],
   "source": [
    "import numpy as np\n",
    "import pandas as pd\n",
    "from sklearn.model_selection import train_test_split\n",
    "from tensorflow.python import keras\n",
    "from tensorflow.python.keras.models import Sequential\n",
    "from tensorflow.python.keras.layers import Dense,Flatten,Conv2D,Dropout"
   ]
  },
  {
   "cell_type": "code",
   "execution_count": 15,
   "metadata": {},
   "outputs": [],
   "source": [
    "path = './input/train.csv'\n",
    "train = pd.read_csv(path)\n",
    "test = pd.read_csv('./input/test.csv')\n",
    "img_rows,img_cols = 28,28\n",
    "num_classes = 10"
   ]
  },
  {
   "cell_type": "code",
   "execution_count": 16,
   "metadata": {},
   "outputs": [],
   "source": [
    "def prep_data(raw):\n",
    "    out_y = keras.utils.to_categorical(raw.label,num_classes)\n",
    "    num_images = raw.shape[0]\n",
    "    x_as_array = raw.values[:,1:]\n",
    "    x_shaped_array = x_as_array.reshape(num_images,img_rows,img_cols,1)\n",
    "    out_x = x_shaped_array/255\n",
    "    return out_x,out_y"
   ]
  },
  {
   "cell_type": "code",
   "execution_count": 17,
   "metadata": {},
   "outputs": [
    {
     "name": "stdout",
     "output_type": "stream",
     "text": [
      "Train on 33600 samples, validate on 8400 samples\n",
      "Epoch 1/2\n",
      "33600/33600 [==============================] - 3s 102us/step - loss: 0.3035 - acc: 0.9106 - val_loss: 0.0930 - val_acc: 0.9710\n",
      "Epoch 2/2\n",
      "33600/33600 [==============================] - 3s 85us/step - loss: 0.0877 - acc: 0.9735 - val_loss: 0.0707 - val_acc: 0.9756\n"
     ]
    },
    {
     "data": {
      "text/plain": [
       "<tensorflow.python.keras.callbacks.History at 0x287e4780>"
      ]
     },
     "execution_count": 17,
     "metadata": {},
     "output_type": "execute_result"
    }
   ],
   "source": [
    "X,y = prep_data(train)\n",
    "model = Sequential()\n",
    "model.add(Conv2D(20,kernel_size=(3,3),activation = 'relu',input_shape=(img_rows,img_cols,1)))\n",
    "model.add(Dropout(0.5))\n",
    "model.add(Conv2D(20,kernel_size=(3,3),activation='relu'))\n",
    "model.add(Flatten())\n",
    "model.add(Dense(128,activation='relu'))\n",
    "model.add(Dense(num_classes,activation='softmax'))\n",
    "model.compile(loss=keras.losses.categorical_crossentropy,optimizer='adam',metrics=['accuracy'])\n",
    "model.fit(X,y,batch_size=128,epochs=2,validation_split=0.2)"
   ]
  },
  {
   "cell_type": "code",
   "execution_count": 19,
   "metadata": {},
   "outputs": [
    {
     "name": "stdout",
     "output_type": "stream",
     "text": [
      "Epoch 1/2\n",
      "42000/42000 [==============================] - 3s 81us/step - loss: 0.0586 - acc: 0.9818\n",
      "Epoch 2/2\n",
      "42000/42000 [==============================] - 3s 80us/step - loss: 0.0412 - acc: 0.9872\n"
     ]
    },
    {
     "data": {
      "text/plain": [
       "<tensorflow.python.keras.callbacks.History at 0xfd3b710>"
      ]
     },
     "execution_count": 19,
     "metadata": {},
     "output_type": "execute_result"
    }
   ],
   "source": [
    "def prep_data_test(raw):\n",
    "    num_images = raw.shape[0]\n",
    "    x_as_array = raw.values[:,:]\n",
    "    x_shaped_array = x_as_array.reshape(num_images,img_rows,img_cols,1)\n",
    "    out_x = x_shaped_array/255\n",
    "    return out_x\n",
    "X2 = prep_data_test(test)\n",
    "model.fit(X,y,batch_size=128,epochs=2)"
   ]
  },
  {
   "cell_type": "code",
   "execution_count": 21,
   "metadata": {},
   "outputs": [],
   "source": [
    "predictions = model.predict_classes(X2)\n",
    "predictions_file = pd.DataFrame({\n",
    "    'ImageId':list(range(1,len(predictions)+1)),\n",
    "    'Label':predictions\n",
    "})\n",
    "predictions_file.to_csv('submission_MNIST.csv',index=False)"
   ]
  }
 ],
 "metadata": {
  "kernelspec": {
   "display_name": "Python 3",
   "language": "python",
   "name": "python3"
  },
  "language_info": {
   "codemirror_mode": {
    "name": "ipython",
    "version": 3
   },
   "file_extension": ".py",
   "mimetype": "text/x-python",
   "name": "python",
   "nbconvert_exporter": "python",
   "pygments_lexer": "ipython3",
   "version": "3.6.5"
  }
 },
 "nbformat": 4,
 "nbformat_minor": 2
}
