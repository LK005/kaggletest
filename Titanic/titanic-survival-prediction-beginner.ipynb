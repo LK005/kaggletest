{
 "cells": [
  {
   "cell_type": "markdown",
   "metadata": {
    "_uuid": "1624115884872bbcc917e420dde0069170c09f14"
   },
   "source": [
    "This kernel is based on the learnings of others kernels and offcourse my own intuitions and methods too. This notebook will be helpful for beginners.\n",
    "\n",
    "This is my first kernel so any kind of suggestion or appreaciation is heartly welcomed."
   ]
  },
  {
   "cell_type": "code",
   "execution_count": null,
   "metadata": {
    "_cell_guid": "b1076dfc-b9ad-4769-8c92-a6c4dae69d19",
    "_uuid": "8f2839f25d086af736a60e9eeb907d3b93b6e0e5"
   },
   "outputs": [],
   "source": [
    "import os\n",
    "print(os.listdir(\"../input/\"))"
   ]
  },
  {
   "cell_type": "markdown",
   "metadata": {
    "_uuid": "519b248d8b81d9cf833868acf2f2e1047dc9c3de"
   },
   "source": [
    "### Import libraries"
   ]
  },
  {
   "cell_type": "code",
   "execution_count": null,
   "metadata": {
    "_uuid": "0bd40344db61fb8c900b96e2ca872b1b4d3e9ef2"
   },
   "outputs": [],
   "source": [
    "import numpy as np\n",
    "import pandas as pd\n",
    "import matplotlib.pyplot as plt\n",
    "import seaborn as sns\n",
    "\n",
    "import re\n",
    "\n",
    "import warnings\n",
    "warnings.filterwarnings('ignore')\n",
    "\n",
    "from sklearn.preprocessing import LabelEncoder\n",
    "from sklearn.model_selection import train_test_split, GridSearchCV, cross_val_score\n",
    "from xgboost import XGBClassifier"
   ]
  },
  {
   "cell_type": "code",
   "execution_count": null,
   "metadata": {
    "_cell_guid": "79c7e3d0-c299-4dcb-8224-4455121ee9b0",
    "_uuid": "d629ff2d2480ee46fbb7e2d37f6b5fab8052498a"
   },
   "outputs": [],
   "source": [
    "train = pd.read_csv(\"../input/train.csv\")\n",
    "train['label'] = 'train'\n",
    "test = pd.read_csv(\"../input/test.csv\")\n",
    "test['label'] = 'test'\n",
    "test_passengerId = test.PassengerId  #Save test passengerId. It will be required at the end\n",
    "df = train.append(test)\n",
    "df.sample(2)"
   ]
  },
  {
   "cell_type": "markdown",
   "metadata": {
    "_uuid": "8321b08e5406588349f31fc62dcf959f9fcc9f65"
   },
   "source": [
    "## EDA"
   ]
  },
  {
   "cell_type": "code",
   "execution_count": null,
   "metadata": {
    "_uuid": "b2afa822d92aa61f69620652cdcf792427c8a177"
   },
   "outputs": [],
   "source": [
    "df.info()"
   ]
  },
  {
   "cell_type": "code",
   "execution_count": null,
   "metadata": {
    "_uuid": "6fae88ac1f82b7ba2e8ab4f76be8979676194ff7"
   },
   "outputs": [],
   "source": [
    "df.isnull().sum()"
   ]
  },
  {
   "cell_type": "markdown",
   "metadata": {
    "_uuid": "bae5d0eec91bc3543d2c6ba7b7a8bdd6d1df855e"
   },
   "source": [
    "So we have to handle missing values of age, cabin, embarked and fare. Survived has missing values of test set."
   ]
  },
  {
   "cell_type": "code",
   "execution_count": null,
   "metadata": {
    "_uuid": "603058c52f9121711173ec58d80108608a83a6ae"
   },
   "outputs": [],
   "source": [
    "df.describe(include = 'all')"
   ]
  },
  {
   "cell_type": "markdown",
   "metadata": {
    "_uuid": "de84d48fc7beca5132beda08a9efda6bf95d785e"
   },
   "source": [
    "### Handling Missing Values"
   ]
  },
  {
   "cell_type": "markdown",
   "metadata": {
    "_uuid": "14b6a2fdb480e48af7800b4956084835199a8e69"
   },
   "source": [
    "#### Embarked"
   ]
  },
  {
   "cell_type": "code",
   "execution_count": null,
   "metadata": {
    "_uuid": "c4f063103fd40a4828e5f36b438fb21b18706b4a"
   },
   "outputs": [],
   "source": [
    "#Fill missing value\n",
    "df['Embarked'].fillna('S', inplace = True)    #top value with freq 914"
   ]
  },
  {
   "cell_type": "markdown",
   "metadata": {
    "_uuid": "64f0cd72c88e90fcc70c5b16f0a0c0b0769cc05f"
   },
   "source": [
    "#### Fare"
   ]
  },
  {
   "cell_type": "code",
   "execution_count": null,
   "metadata": {
    "_uuid": "c6943325c67811d17ae6c16d1f9627ad1f2179ae"
   },
   "outputs": [],
   "source": [
    "df[df.Fare.isnull()]"
   ]
  },
  {
   "cell_type": "code",
   "execution_count": null,
   "metadata": {
    "_uuid": "794a56cd6cd71a36dfc8ff964364196a2da59390"
   },
   "outputs": [],
   "source": [
    "df.corr().Fare"
   ]
  },
  {
   "cell_type": "markdown",
   "metadata": {
    "_uuid": "118218ac1e609146244fc357af63f3d519998144"
   },
   "source": [
    "Looks like Pclass can help to fill the missing value."
   ]
  },
  {
   "cell_type": "code",
   "execution_count": null,
   "metadata": {
    "_uuid": "8e6aebfc3a8ca090f586caa07a740f7ad6109817"
   },
   "outputs": [],
   "source": [
    "print(df[df.Pclass == 1].Fare.quantile([0.25, 0.50, 0.75]))\n",
    "print(df[df.Pclass == 2].Fare.quantile([0.25, 0.50, 0.75]))\n",
    "print(df[df.Pclass == 3].Fare.quantile([0.25, 0.50, 0.75]))"
   ]
  },
  {
   "cell_type": "markdown",
   "metadata": {
    "_uuid": "644f6f8ece5f37720be845203088572715bb018d"
   },
   "source": [
    "Yup! Values differ totally according to Pclass. Let's look it through visualization."
   ]
  },
  {
   "cell_type": "code",
   "execution_count": null,
   "metadata": {
    "_uuid": "a6d63617b4a51c85d608ed7b7c67fb26debe84b7"
   },
   "outputs": [],
   "source": [
    "sns.factorplot(x = 'Pclass', y = 'Fare', data = df)"
   ]
  },
  {
   "cell_type": "code",
   "execution_count": null,
   "metadata": {
    "_uuid": "044f6c740eac0781d95aed5ba3fa9c92e2b3c53b"
   },
   "outputs": [],
   "source": [
    "df['Fare'].fillna(df[df.Pclass == 3].Fare.median(), inplace = True)   #Fare is dependent on Pclass"
   ]
  },
  {
   "cell_type": "markdown",
   "metadata": {
    "_uuid": "f8812403f8f3f0077dd0e3039d0b5f3891ddc4b6"
   },
   "source": [
    "#### Age"
   ]
  },
  {
   "cell_type": "code",
   "execution_count": null,
   "metadata": {
    "_uuid": "0c8ea462edf23902e0ff88ee02933727d673abaf"
   },
   "outputs": [],
   "source": [
    "print(\"Age column has\", df.Age.isnull().sum(), \"missing values out of\", len(df), \". Missing value percentage =\", df.Age.isnull().sum()/len(df)*100)"
   ]
  },
  {
   "cell_type": "markdown",
   "metadata": {
    "_uuid": "7d26b62d7bb2ac4cf79f4a790b340c17a291d709"
   },
   "source": [
    "Its high! Thus any value derived statistically (mean or median) based on only Age column can mislead the dataset for the classifier. We will fill them based on the relations with other variables."
   ]
  },
  {
   "cell_type": "code",
   "execution_count": null,
   "metadata": {
    "_uuid": "fc9dfe9286f04637cd1e921ec2c383c2a54fe7cd"
   },
   "outputs": [],
   "source": [
    "df.corr().Age"
   ]
  },
  {
   "cell_type": "code",
   "execution_count": null,
   "metadata": {
    "_uuid": "a6f4cfe43d9bd1744fdaa875901ea5a2c676afca"
   },
   "outputs": [],
   "source": [
    "df.pivot_table(values = 'Age', index = 'Pclass').Age.plot.bar()"
   ]
  },
  {
   "cell_type": "code",
   "execution_count": null,
   "metadata": {
    "_uuid": "f724ba2d13138e2bcb00a758702bd853e051a87b"
   },
   "outputs": [],
   "source": [
    "df.pivot_table(values = 'Age', index = ['Pclass', 'SibSp'], aggfunc = 'median').Age.plot.bar()"
   ]
  },
  {
   "cell_type": "markdown",
   "metadata": {
    "_uuid": "b37f9fcb81ee5c04df91b97ba15db6d66ef92284"
   },
   "source": [
    "A basic trend can be found from the graph. Thus, we are on right path!"
   ]
  },
  {
   "cell_type": "code",
   "execution_count": null,
   "metadata": {
    "_uuid": "aa3d86daed0402876c30893d8af0f1821517db2a"
   },
   "outputs": [],
   "source": [
    "df.pivot_table(values = 'Age', index = ['Pclass', 'SibSp', 'Parch'], aggfunc = 'median')"
   ]
  },
  {
   "cell_type": "markdown",
   "metadata": {
    "_uuid": "5b027ed1cfe3c6e202af8d00624d69735b499280"
   },
   "source": [
    "We will fill missing values based on Pclass and SibSp."
   ]
  },
  {
   "cell_type": "code",
   "execution_count": null,
   "metadata": {
    "_uuid": "eef4de73b812715ce90a3c75507f446d5253b9db"
   },
   "outputs": [],
   "source": [
    "df.Age.isnull().sum()"
   ]
  },
  {
   "cell_type": "code",
   "execution_count": null,
   "metadata": {
    "_uuid": "bc1a5dc481ee8bec1e13e42df2ca5e8ca4455096"
   },
   "outputs": [],
   "source": [
    "age_null = df.Age.isnull()\n",
    "group_med_age = df.pivot_table(values = 'Age', index = ['Pclass', 'SibSp'], aggfunc = 'median')\n",
    "df.loc[age_null, 'Age'] = df.loc[age_null, ['Pclass', 'SibSp']].apply(lambda x: group_med_age.loc[(group_med_age.index.get_level_values('Pclass') == x.Pclass) & (group_med_age.index.get_level_values('SibSp') == x.SibSp)].Age.values[0], axis = 1)"
   ]
  },
  {
   "cell_type": "code",
   "execution_count": null,
   "metadata": {
    "_uuid": "83a3bf5bc900a5de35725a103b67f9d22a27f112"
   },
   "outputs": [],
   "source": [
    "df.Age.isnull().sum()"
   ]
  },
  {
   "cell_type": "markdown",
   "metadata": {
    "_uuid": "7ae9e238acc6c9428373688ab24caa18f94a7279"
   },
   "source": [
    "#### Cabin"
   ]
  },
  {
   "cell_type": "code",
   "execution_count": null,
   "metadata": {
    "_uuid": "716183bfae837b942c34c8ec216010d38964220d"
   },
   "outputs": [],
   "source": [
    "print(\"Cabin has\", df.Cabin.isnull().sum(), \"missing values out of\", len(df))"
   ]
  },
  {
   "cell_type": "markdown",
   "metadata": {
    "_uuid": "cfdf5007b74e410d3056920a2dff645a50a28cca"
   },
   "source": [
    "So instead of filling those values, form their cluster. We will assume that those people don't have cabin."
   ]
  },
  {
   "cell_type": "code",
   "execution_count": null,
   "metadata": {
    "_uuid": "ca1624bd46cf1751da203356ee63d9363b5b91c2"
   },
   "outputs": [],
   "source": [
    "df['Cabin'] = df.Cabin.str[0]\n",
    "df.Cabin.unique()"
   ]
  },
  {
   "cell_type": "code",
   "execution_count": null,
   "metadata": {
    "_uuid": "14cf4d93caebbd8c182cab0747e751b667e7903c"
   },
   "outputs": [],
   "source": [
    "df.Cabin.fillna('O', inplace = True)"
   ]
  },
  {
   "cell_type": "code",
   "execution_count": null,
   "metadata": {
    "_uuid": "ff3a84c78dda357d8d93c1f5eaaa5e1dbbe85d62"
   },
   "outputs": [],
   "source": [
    "df.isnull().sum()"
   ]
  },
  {
   "cell_type": "markdown",
   "metadata": {
    "_uuid": "b1d89b4dcd91b1ddc5489f75bc7127a2f3c28bc4"
   },
   "source": [
    "So, we are done with data cleaning part. Missing Survived are from test set."
   ]
  },
  {
   "cell_type": "code",
   "execution_count": null,
   "metadata": {
    "_uuid": "0a991971b34ce6a42281e2621d82e7a080a1fc37"
   },
   "outputs": [],
   "source": [
    "df.sample(2)"
   ]
  },
  {
   "cell_type": "markdown",
   "metadata": {
    "_uuid": "74ca3f92145d1f75a30682afcb45f9baea6f449d"
   },
   "source": [
    "### Sex"
   ]
  },
  {
   "cell_type": "code",
   "execution_count": null,
   "metadata": {
    "_uuid": "49a23dcbd71c79f80be6ae03cd40975fe1955b5c"
   },
   "outputs": [],
   "source": [
    "sns.factorplot(data = df, x = 'Sex', hue = 'Survived', kind = 'count')"
   ]
  },
  {
   "cell_type": "code",
   "execution_count": null,
   "metadata": {
    "_uuid": "21870941e329c9d42da3278da721925cc49964f2"
   },
   "outputs": [],
   "source": [
    "df.pivot_table(values = 'Survived', index = 'Sex').Survived.plot.bar()\n",
    "plt.ylabel('Survival Probability')"
   ]
  },
  {
   "cell_type": "markdown",
   "metadata": {
    "_uuid": "d482e5b26c90d6e90b6aa505a191a2bf72afb90d"
   },
   "source": [
    "Females tend to survive more than males."
   ]
  },
  {
   "cell_type": "markdown",
   "metadata": {
    "_uuid": "5881070959c52713d137a9a91e66e517e6e5b4fa"
   },
   "source": [
    "#### Age"
   ]
  },
  {
   "cell_type": "code",
   "execution_count": null,
   "metadata": {
    "_uuid": "f68046df860467e744bdd3c8104ced032fa53283"
   },
   "outputs": [],
   "source": [
    "q = sns.kdeplot(df.Age[df.Survived == 1], shade = True, color = 'red')\n",
    "q = sns.kdeplot(df.Age[df.Survived == 0], shade = True, color = 'blue')\n",
    "q.set_xlabel(\"Age\")\n",
    "q.set_ylabel(\"Frequency\")\n",
    "q = q.legend(['Survived', 'Not Survived'])"
   ]
  },
  {
   "cell_type": "code",
   "execution_count": null,
   "metadata": {
    "_uuid": "6c77346dabb3a1e8883c54c1d72c50d6317950aa"
   },
   "outputs": [],
   "source": [
    "q = sns.FacetGrid(df, col = 'Survived')\n",
    "q.map(sns.distplot, 'Age')"
   ]
  },
  {
   "cell_type": "markdown",
   "metadata": {
    "_uuid": "3cdbcb0481f483e7baff211d208df1ef7c2594e7"
   },
   "source": [
    "#### Embarked"
   ]
  },
  {
   "cell_type": "code",
   "execution_count": null,
   "metadata": {
    "_uuid": "d5a5f1d2b5acf0c39969f5ddc0d46e448b6e89d7"
   },
   "outputs": [],
   "source": [
    "sns.factorplot(data = df, x = 'Embarked', hue = 'Survived', kind = 'count')"
   ]
  },
  {
   "cell_type": "code",
   "execution_count": null,
   "metadata": {
    "_uuid": "f486c50cb4815ff1ae1ccc6066ef54c3f82c0423"
   },
   "outputs": [],
   "source": [
    "df.pivot_table(values = 'Survived', index = 'Embarked').Survived.plot.bar()\n",
    "plt.ylabel('Survival Probability')"
   ]
  },
  {
   "cell_type": "markdown",
   "metadata": {
    "_uuid": "463bc50b76e03da03e47e5b4c87a674ead369c1c"
   },
   "source": [
    "Cherbourg port is more save as compared to others. Lets look more into this."
   ]
  },
  {
   "cell_type": "code",
   "execution_count": null,
   "metadata": {
    "_uuid": "f902d3a925ed52ae3e8812ee3b0265ebca1c626f"
   },
   "outputs": [],
   "source": [
    "df.pivot_table(values = 'Survived', index = ['Sex','Embarked']).Survived.plot.bar()\n",
    "plt.ylabel('Survival Probability')"
   ]
  },
  {
   "cell_type": "markdown",
   "metadata": {
    "_uuid": "826c0e67a7e55ad564c0eae76feaf2f746f22d54"
   },
   "source": [
    "We found something interesting! Cherbourg port is very safe for females and Qweenstone and Southampton ports are very dangerous for males."
   ]
  },
  {
   "cell_type": "code",
   "execution_count": null,
   "metadata": {
    "_uuid": "35c0f6e8a78d512390a12ef66b9ff41f4623a8e6"
   },
   "outputs": [],
   "source": [
    "fig, ax =plt.subplots(1,2)\n",
    "sns.countplot(data = df[df.Sex == 'female'], x = 'Embarked', hue = 'Survived', ax = ax[0])\n",
    "sns.countplot(data = df[df.Sex == 'male'], x = 'Embarked', hue = 'Survived', ax = ax[1])\n",
    "fig.show()"
   ]
  },
  {
   "cell_type": "markdown",
   "metadata": {
    "_uuid": "6b103f0b31be717b6d984f759d3333a785c4e5c7"
   },
   "source": [
    "Surprised! Port of embarkation is very safe for females  but more dangerous form males. Similarly other two ports also contradict for males and females."
   ]
  },
  {
   "cell_type": "markdown",
   "metadata": {
    "_uuid": "179487159cbbb33f18a1d6c00cb623d12cd2651e"
   },
   "source": [
    "#### Parch"
   ]
  },
  {
   "cell_type": "code",
   "execution_count": null,
   "metadata": {
    "_uuid": "15e77e87c618ef691b2966db43e8ec686d0af04e"
   },
   "outputs": [],
   "source": [
    "sns.factorplot(data = df, x = 'Parch', hue = 'Survived', kind = 'count')"
   ]
  },
  {
   "cell_type": "code",
   "execution_count": null,
   "metadata": {
    "_uuid": "d772854a6eed89d94f988425049db11f1f625202"
   },
   "outputs": [],
   "source": [
    "df.pivot_table(values = 'Survived', index = 'Parch').Survived.plot.bar()\n",
    "plt.ylabel('Survival Probability')"
   ]
  },
  {
   "cell_type": "markdown",
   "metadata": {
    "_uuid": "97f55800b260198204669fb723ab5596a5f6f0f1"
   },
   "source": [
    "#### Pclass"
   ]
  },
  {
   "cell_type": "code",
   "execution_count": null,
   "metadata": {
    "_uuid": "c57b27691925d9a8eb1ac72e0731e01031eecbe9"
   },
   "outputs": [],
   "source": [
    "sns.factorplot(data = df, x = 'Pclass', hue = 'Survived', kind = 'count')"
   ]
  },
  {
   "cell_type": "code",
   "execution_count": null,
   "metadata": {
    "_uuid": "931a52394fbda1a2b5cebef61f595e8483f12d49"
   },
   "outputs": [],
   "source": [
    "df.pivot_table(values = 'Survived', index = 'Pclass').Survived.plot.bar()\n",
    "plt.ylabel('Survival Probability')"
   ]
  },
  {
   "cell_type": "code",
   "execution_count": null,
   "metadata": {
    "_uuid": "c9d2234690d98b9351a7e4498ddc7ec38c24b297"
   },
   "outputs": [],
   "source": [
    "df.pivot_table(values = 'Survived', index = ['Sex', 'Pclass']).Survived.plot.bar()\n",
    "plt.ylabel('Survival Probability')"
   ]
  },
  {
   "cell_type": "markdown",
   "metadata": {
    "_uuid": "dee7c98991831b25e283c024fcf6517f24264fb0"
   },
   "source": [
    "Qualty of tickets class assures more safety!"
   ]
  },
  {
   "cell_type": "markdown",
   "metadata": {
    "_uuid": "ba18a08842d555f1d61084376e3edfa9c5acf887"
   },
   "source": [
    "#### Cabin"
   ]
  },
  {
   "cell_type": "code",
   "execution_count": null,
   "metadata": {
    "_uuid": "17214e1ef8f64031284984eb8f05ca1805895a1c"
   },
   "outputs": [],
   "source": [
    "sns.factorplot(data = df, x = 'Cabin', hue = 'Survived', kind = 'count')"
   ]
  },
  {
   "cell_type": "code",
   "execution_count": null,
   "metadata": {
    "_uuid": "044f6de20b417b41e323a88f0c72b3e548b6a1b6"
   },
   "outputs": [],
   "source": [
    "df.pivot_table(values = 'Survived', index = 'Cabin').Survived.plot.bar()\n",
    "plt.ylabel('Survival Probability')"
   ]
  },
  {
   "cell_type": "markdown",
   "metadata": {
    "_uuid": "4013be37e7788d0f98d96fcc78fa0d84283db9dd"
   },
   "source": [
    "#### Fare"
   ]
  },
  {
   "cell_type": "markdown",
   "metadata": {
    "_uuid": "5863e1862b0490aaaa5f606b5c49c700edd6c3df"
   },
   "source": [
    "From dataset description, it was clear that Fare values are not skewed. Lets visualize it."
   ]
  },
  {
   "cell_type": "code",
   "execution_count": null,
   "metadata": {
    "_uuid": "4a20bd7e191654eaa48575633eb24f6ac4324242"
   },
   "outputs": [],
   "source": [
    "plt.boxplot(train.Fare, showmeans = True)\n",
    "plt.title('Fare Boxplot')\n",
    "plt.ylabel('Fares')"
   ]
  },
  {
   "cell_type": "code",
   "execution_count": null,
   "metadata": {
    "_uuid": "5453511f147b116e25df98756cd39e876f27a6fb"
   },
   "outputs": [],
   "source": [
    "sns.distplot(df.Fare)"
   ]
  },
  {
   "cell_type": "markdown",
   "metadata": {
    "_uuid": "d92e3e0d837733f2943154f9c7719475ac796a1e"
   },
   "source": [
    "Highly right skewed!"
   ]
  },
  {
   "cell_type": "code",
   "execution_count": null,
   "metadata": {
    "_uuid": "849c685c7b2ced320935f4e266947e7e44142c74"
   },
   "outputs": [],
   "source": [
    "df.Fare.skew()    #Measure of skewness level"
   ]
  },
  {
   "cell_type": "markdown",
   "metadata": {
    "_uuid": "eac1b46d40c7441b46003b1ff6e341470b66574c"
   },
   "source": [
    "We will take log transform. This might help classifier in preditions. Also it will help us to find correlation between variables."
   ]
  },
  {
   "cell_type": "code",
   "execution_count": null,
   "metadata": {
    "_uuid": "ba8eab29261f9ed4f321717e67ca9b58385d1b19"
   },
   "outputs": [],
   "source": [
    "df['Fare_log'] = df.Fare.map(lambda i: np.log(i) if i > 0 else 0)"
   ]
  },
  {
   "cell_type": "code",
   "execution_count": null,
   "metadata": {
    "_uuid": "626aff838855cc76d969f2b212389abf7c8810f7"
   },
   "outputs": [],
   "source": [
    "sns.distplot(df.Fare_log)"
   ]
  },
  {
   "cell_type": "code",
   "execution_count": null,
   "metadata": {
    "_uuid": "735085e136a9bc21ed7aeeca50959a502e436adc"
   },
   "outputs": [],
   "source": [
    "df.Fare_log.skew()"
   ]
  },
  {
   "cell_type": "markdown",
   "metadata": {
    "_uuid": "ab81ef7c6e4efb129462775efcf017458df55b52"
   },
   "source": [
    "### Feature Engineering"
   ]
  },
  {
   "cell_type": "code",
   "execution_count": null,
   "metadata": {
    "_uuid": "675c1af70abb9a613f2a1d2b9d8137610aca4c96"
   },
   "outputs": [],
   "source": [
    "df['Family_size'] = 1 + df.Parch + df.SibSp\n",
    "df['Alone'] = np.where(df.Family_size == 1, 1, 0)"
   ]
  },
  {
   "cell_type": "code",
   "execution_count": null,
   "metadata": {
    "_uuid": "5a076cf816bee5a5de964a0a103d5b3115d2609a"
   },
   "outputs": [],
   "source": [
    "print(df.Family_size.value_counts())\n",
    "print(df.Alone.value_counts())"
   ]
  },
  {
   "cell_type": "code",
   "execution_count": null,
   "metadata": {
    "_uuid": "42502377c6d0af51b5758ea33986ac4c2c3a4b42"
   },
   "outputs": [],
   "source": [
    "sns.factorplot(data = df, x = 'Family_size', hue = 'Survived', kind = 'count')"
   ]
  },
  {
   "cell_type": "code",
   "execution_count": null,
   "metadata": {
    "_uuid": "4730bfe07f86c3e42f541c257e3e7012aec22ff5"
   },
   "outputs": [],
   "source": [
    "df.pivot_table(values = 'Survived', index = 'Family_size').Survived.plot.bar()\n",
    "plt.ylabel('Survival Probability')"
   ]
  },
  {
   "cell_type": "markdown",
   "metadata": {
    "_uuid": "57bfc1147ecc90bbcc65584d450e12f68b773ba7"
   },
   "source": [
    "Now, family size with 2 to 4 members are more likely to survive. Thus, we will form bins for this groups."
   ]
  },
  {
   "cell_type": "code",
   "execution_count": null,
   "metadata": {
    "_uuid": "9c102869efd649d927d5050f08c4f3e6a3f4efd4"
   },
   "outputs": [],
   "source": [
    "df.loc[df['Family_size'] == 1, 'Family_size_bin'] = 0\n",
    "df.loc[(df['Family_size'] >= 2) & (df['Family_size'] <= 4), 'Family_size_bin'] = 1\n",
    "df.loc[df['Family_size'] >=5, 'Family_size_bin'] = 2"
   ]
  },
  {
   "cell_type": "code",
   "execution_count": null,
   "metadata": {
    "_uuid": "acb186469ff2ea190ef2c8089bff9d8c0cabd7e3"
   },
   "outputs": [],
   "source": [
    "sns.factorplot(data = df, x = 'Alone', hue = 'Survived', kind = 'count')"
   ]
  },
  {
   "cell_type": "code",
   "execution_count": null,
   "metadata": {
    "_uuid": "57439f2bd26e93cbe7f05b6ab1f9ef8ef8de5280"
   },
   "outputs": [],
   "source": [
    "df.pivot_table(values = 'Survived', index = 'Alone').Survived.plot.bar()\n",
    "plt.ylabel('Survival Probability')"
   ]
  },
  {
   "cell_type": "markdown",
   "metadata": {
    "_uuid": "d4b8e63ae4805403f4230d726ce30397c5235016"
   },
   "source": [
    "People travelling alone are likely to less survive."
   ]
  },
  {
   "cell_type": "code",
   "execution_count": null,
   "metadata": {
    "_uuid": "41e9ea36c76a93970704bbab10bd7b2122a9c3be"
   },
   "outputs": [],
   "source": [
    "df['Title'] = df.Name.str.split(\", \", expand = True)[1].str.split(\".\", expand = True)[0]\n",
    "df.Title.value_counts()"
   ]
  },
  {
   "cell_type": "code",
   "execution_count": null,
   "metadata": {
    "_uuid": "a2d2226b694b52f9b868378da194436c21ca9b64"
   },
   "outputs": [],
   "source": [
    "minor_titles = df.Title.value_counts() <= 4\n",
    "df['Title'] = df.Title.apply(lambda x: 'Others' if minor_titles.loc[x] == True else x)\n",
    "df.Title.value_counts()"
   ]
  },
  {
   "cell_type": "code",
   "execution_count": null,
   "metadata": {
    "_uuid": "dc88664e4e7ada58856cdb287fc479cffc34076d"
   },
   "outputs": [],
   "source": [
    "sns.factorplot(data = df, x = 'Title', hue = 'Survived', kind = 'count')"
   ]
  },
  {
   "cell_type": "code",
   "execution_count": null,
   "metadata": {
    "_uuid": "e5642b839a7477afbeb49c221ddfa3a5b4ec96ba"
   },
   "outputs": [],
   "source": [
    "df.pivot_table(values = 'Survived', index = 'Title').Survived.plot.bar()\n",
    "plt.ylabel('Survival Probability')"
   ]
  },
  {
   "cell_type": "markdown",
   "metadata": {
    "_uuid": "9522829d907471a8656ec286c79814471c7e2a65"
   },
   "source": [
    "Lets make bins for age and fare also and visualize them."
   ]
  },
  {
   "cell_type": "code",
   "execution_count": null,
   "metadata": {
    "_uuid": "b8462b1733b2c2329be702100e1c348c65bf45a5"
   },
   "outputs": [],
   "source": [
    "df['Fare_bin'] = pd.qcut(df.Fare, 4, labels = [0,1,2,3]).astype(int)\n",
    "df['Age_bin'] = pd.cut(df.Age.astype(int), 5, labels = [0,1,2,3,4]).astype(int)"
   ]
  },
  {
   "cell_type": "code",
   "execution_count": null,
   "metadata": {
    "_uuid": "3d4a0f908c05eeada741b58e7f813f67b602d5e2"
   },
   "outputs": [],
   "source": [
    "sns.factorplot(data = df, x = 'Age_bin', hue = 'Survived', kind = 'count')"
   ]
  },
  {
   "cell_type": "markdown",
   "metadata": {
    "_uuid": "745018afe5e72a5847973ca90d3eb741280973db"
   },
   "source": [
    "Youngters are likely to survive more."
   ]
  },
  {
   "cell_type": "code",
   "execution_count": null,
   "metadata": {
    "_uuid": "239993797fa8f7a8684c1dbe3cf40f0502e13eec"
   },
   "outputs": [],
   "source": [
    "sns.factorplot(data = df, x = 'Fare_bin', hue = 'Survived', kind = 'count')"
   ]
  },
  {
   "cell_type": "markdown",
   "metadata": {
    "_uuid": "69f6e9035c7528e030f0a8c3c4ea1748b4742492"
   },
   "source": [
    "As much you pay, that much you will get security!"
   ]
  },
  {
   "cell_type": "code",
   "execution_count": null,
   "metadata": {
    "_uuid": "bda9f910ab83521678b5ef00f95ae9fc824a04d2"
   },
   "outputs": [],
   "source": [
    "fig, axs = plt.subplots(1, 3,figsize=(15,5))\n",
    "\n",
    "sns.pointplot(x = 'Fare_bin', y = 'Survived',  data=df, ax = axs[0])\n",
    "sns.pointplot(x = 'Age_bin', y = 'Survived',  data=df, ax = axs[1])\n",
    "sns.pointplot(x = 'Family_size', y = 'Survived', data=df, ax = axs[2])"
   ]
  },
  {
   "cell_type": "markdown",
   "metadata": {
    "_uuid": "89827d750d059246b0ea7c0563204c8a873d4257"
   },
   "source": [
    "### Handling categorical variables"
   ]
  },
  {
   "cell_type": "code",
   "execution_count": null,
   "metadata": {
    "_uuid": "987a327216fd86835e07a27078d3cb490ccd1e69"
   },
   "outputs": [],
   "source": [
    "label = LabelEncoder()\n",
    "df['Title'] = label.fit_transform(df.Title)\n",
    "df['Sex'] = label.fit_transform(df.Sex)\n",
    "df['Embarked'] = label.fit_transform(df.Embarked)\n",
    "df['Cabin'] = label.fit_transform(df.Cabin)"
   ]
  },
  {
   "cell_type": "code",
   "execution_count": null,
   "metadata": {
    "_uuid": "84c1fc64e1d2c1502484064a9501bc67724e8da1"
   },
   "outputs": [],
   "source": [
    "df.sample(2)"
   ]
  },
  {
   "cell_type": "code",
   "execution_count": null,
   "metadata": {
    "_uuid": "0dc7832bfc8b9ff7f9dba7157f8b9410abce303b"
   },
   "outputs": [],
   "source": [
    "#We will look at correlation between variables. So before working with ticket column, save all variables we worked on yet.\n",
    "#This id because we will use get_dummies on ticket and not label encoding.\n",
    "corr_columns = list(df.drop(['Name', 'PassengerId', 'Ticket', 'label'], axis = 1).columns)"
   ]
  },
  {
   "cell_type": "markdown",
   "metadata": {
    "_uuid": "89bc498da42413843445089428f5768e04dbbe4b"
   },
   "source": [
    "#### Ticket"
   ]
  },
  {
   "cell_type": "code",
   "execution_count": null,
   "metadata": {
    "_uuid": "77e01c8b9818afbb93e48087f6f23a0995aeee37"
   },
   "outputs": [],
   "source": [
    "df['Ticket'] = df.Ticket.map(lambda x: re.sub(r'\\W+', '', x))   #Remove special characters"
   ]
  },
  {
   "cell_type": "code",
   "execution_count": null,
   "metadata": {
    "_uuid": "9dedef20d577e4dfb5a1755e8158ad6bf1568d6b"
   },
   "outputs": [],
   "source": [
    "#If ticket is of digit value, make them a character X\n",
    "Ticket = []\n",
    "for i in list(df.Ticket):\n",
    "    if not i.isdigit():\n",
    "        Ticket.append(i[:2])\n",
    "    else:\n",
    "        Ticket.append(\"X\")\n",
    "df['Ticket'] = Ticket"
   ]
  },
  {
   "cell_type": "code",
   "execution_count": null,
   "metadata": {
    "_uuid": "77631972f700069c7eaacd49c37017738a60197a"
   },
   "outputs": [],
   "source": [
    "df.Ticket.unique()"
   ]
  },
  {
   "cell_type": "code",
   "execution_count": null,
   "metadata": {
    "_uuid": "2e4a015521eb0d36fb041b458a3bda2dc52cf562"
   },
   "outputs": [],
   "source": [
    "df = pd.get_dummies(df, columns = ['Ticket'], prefix = 'T')"
   ]
  },
  {
   "cell_type": "markdown",
   "metadata": {
    "_uuid": "cf98e5999702abbf97eb45b4fde8a18ea79d0ae6"
   },
   "source": [
    "Now we will select features from the dataset for modelling purpose."
   ]
  },
  {
   "cell_type": "markdown",
   "metadata": {
    "_uuid": "3547374198d5d98a95ebd448cd80145790371eba"
   },
   "source": [
    "### Feature Selection"
   ]
  },
  {
   "cell_type": "code",
   "execution_count": null,
   "metadata": {
    "_uuid": "4df22df921930ae32a96e16a6eaf1ad49909d9b3"
   },
   "outputs": [],
   "source": [
    "cat_variables = [x for x in df.columns if df.dtypes[x] == 'object']\n",
    "cat_variables"
   ]
  },
  {
   "cell_type": "code",
   "execution_count": null,
   "metadata": {
    "_uuid": "88f18d53bf524d0c92c1d45ccc377c49106a67e6"
   },
   "outputs": [],
   "source": [
    "df.drop(['Name', 'PassengerId'], axis = 1, inplace = True)"
   ]
  },
  {
   "cell_type": "code",
   "execution_count": null,
   "metadata": {
    "_uuid": "33b46fb1293aa61ed4f37258ed4d0f65c24196e1"
   },
   "outputs": [],
   "source": [
    "df.sample(2)"
   ]
  },
  {
   "cell_type": "code",
   "execution_count": null,
   "metadata": {
    "_uuid": "b790a6002d17d216b76c9f32176e26dd312ea914"
   },
   "outputs": [],
   "source": [
    "train = df.loc[df.label == 'train'].drop('label', axis = 1)\n",
    "test = df.loc[df.label == 'test'].drop(['label', 'Survived'], axis = 1)"
   ]
  },
  {
   "cell_type": "markdown",
   "metadata": {
    "_uuid": "7e82baf6277142af0396af387d842b5e54f28f27"
   },
   "source": [
    "Lets look correlation between variables."
   ]
  },
  {
   "cell_type": "markdown",
   "metadata": {
    "_uuid": "733b1505d47abdbbf5ad3f6c1080f40ce86ad2b9"
   },
   "source": [
    "###### Pearson's"
   ]
  },
  {
   "cell_type": "code",
   "execution_count": null,
   "metadata": {
    "_uuid": "1482514d58343a95f96b2343f610244a19f8db97"
   },
   "outputs": [],
   "source": [
    "plt.figure(figsize = [14,10])\n",
    "sns.heatmap(train[corr_columns].corr(), cmap = 'RdBu', annot = True)"
   ]
  },
  {
   "cell_type": "markdown",
   "metadata": {
    "_uuid": "d88186adb776717720656d02a87066d74916babf"
   },
   "source": [
    "1. Pclass and Cabin has some relations.\n",
    "2. Offcourse Family_size will have relation with Parch and SibSp as it is derived from these two.\n",
    "\n",
    "Lets look at spearman's correlation also. Note I'm looking this only for Fare variable as it is not skewed."
   ]
  },
  {
   "cell_type": "markdown",
   "metadata": {
    "_uuid": "453c3b52c46b5e2981813edefb76ca5a8521063a"
   },
   "source": [
    "###### Spearman's"
   ]
  },
  {
   "cell_type": "code",
   "execution_count": null,
   "metadata": {
    "_uuid": "40c90e8463d5c6e60f4b058bc5a083da33551d1d"
   },
   "outputs": [],
   "source": [
    "plt.figure(figsize = [14,10])\n",
    "sns.heatmap(train[corr_columns].corr(method = 'spearman'), cmap = 'RdBu', annot = True)"
   ]
  },
  {
   "cell_type": "markdown",
   "metadata": {
    "_uuid": "a291d40912ccbf021373031ad3ce24938443bda7"
   },
   "source": [
    "As expected! Correlation are somewhat more stronger than pearson's (looking at more blue blocks in spearan's). Also, Fare_log and Fare have correlation 1 because one is just the log transformation of another. Thus, rank will be same.[](http://)"
   ]
  },
  {
   "cell_type": "markdown",
   "metadata": {
    "_uuid": "f12bd797cc592d59736df449a486805181a24fb3"
   },
   "source": [
    "## Modeling"
   ]
  },
  {
   "cell_type": "markdown",
   "metadata": {
    "_uuid": "0822433852f1ce255ade3ff99b4391a50be4b01f"
   },
   "source": [
    "Split the data into train and test sets."
   ]
  },
  {
   "cell_type": "code",
   "execution_count": null,
   "metadata": {
    "_uuid": "dc8125ce64916a501ccea8580a8174a26a5faf7b"
   },
   "outputs": [],
   "source": [
    "X_train = train.drop(['Survived'], axis = 1)\n",
    "y_train = train['Survived'].astype(int)\n",
    "X_test = test"
   ]
  },
  {
   "cell_type": "markdown",
   "metadata": {
    "_uuid": "e0a4bd3c382bef208a29b7a468c9cbaf3fc169f2"
   },
   "source": [
    "### Evaluation"
   ]
  },
  {
   "cell_type": "code",
   "execution_count": null,
   "metadata": {
    "_uuid": "70209cca026d5ad3049857df8d6dc6bc26eca6ec"
   },
   "outputs": [],
   "source": [
    "X_train1, X_val, y_train1, y_val = train_test_split(X_train, y_train, test_size = 0.30, random_state = 2)"
   ]
  },
  {
   "cell_type": "code",
   "execution_count": null,
   "metadata": {
    "_uuid": "77c6f038e52b315e61b7317063f04c90aa51a324"
   },
   "outputs": [],
   "source": [
    "xgb = XGBClassifier(random_state = 0).fit(X_train1, y_train1)\n",
    "y_pred = xgb.predict(X_val)\n",
    "print(\"Training accuracy\", xgb.score(X_train1, y_train1))\n",
    "print(\"Evaluation accuracy\", xgb.score(X_val, y_val))"
   ]
  },
  {
   "cell_type": "markdown",
   "metadata": {
    "_uuid": "9bf8fd7422dc42929cc2570d3244c0341b6922ab"
   },
   "source": [
    "#### Cross-Validation"
   ]
  },
  {
   "cell_type": "code",
   "execution_count": null,
   "metadata": {
    "_uuid": "4dc6b1597f8deec40110f2e240b9cacac12a923a"
   },
   "outputs": [],
   "source": [
    "cross_val_score(xgb, X_train, y_train, cv = 5).mean()"
   ]
  },
  {
   "cell_type": "markdown",
   "metadata": {
    "_uuid": "eedec5c7a4de7ecc5dc06605050b304dcb0d1d83"
   },
   "source": [
    "#### Hyper-parameter tuning with GridSearchCV"
   ]
  },
  {
   "cell_type": "code",
   "execution_count": null,
   "metadata": {
    "_uuid": "c232c2d0da535fee21bce9d556d57f9c942a807f"
   },
   "outputs": [],
   "source": [
    "param_grid = {'max_depth' : [3,4,5,6], 'n_estimators' : [100,200,300], 'learning_rate' : [0.001,0.01,0.1,0.5],\n",
    "              'booster' : ['gbtree', 'dart', 'gblinear']}\n",
    "grid_search = GridSearchCV(XGBClassifier(random_state = 0), param_grid, scoring = 'roc_auc', cv = 3, n_jobs = -1)"
   ]
  },
  {
   "cell_type": "code",
   "execution_count": null,
   "metadata": {
    "_uuid": "f3a207b9e4bf4b0359e75a33c66af5dbc22189c4"
   },
   "outputs": [],
   "source": [
    "grid_search.fit(X_train, y_train)"
   ]
  },
  {
   "cell_type": "code",
   "execution_count": null,
   "metadata": {
    "_uuid": "f5e1752b2bba8c9ce6b3ca70013177f1df944d3f"
   },
   "outputs": [],
   "source": [
    "grid_search.best_params_"
   ]
  },
  {
   "cell_type": "code",
   "execution_count": null,
   "metadata": {
    "_uuid": "1dcc711d8f304a4f89fbc152eb5195584df0c262"
   },
   "outputs": [],
   "source": [
    "xgb = XGBClassifier(max_depth = 6, learning_rate = 0.01, random_state = 0).fit(X_train, y_train)\n",
    "y_pred = xgb.predict(X_test)\n",
    "print(\"Training accuracy =\", xgb.score(X_train, y_train))"
   ]
  },
  {
   "cell_type": "code",
   "execution_count": null,
   "metadata": {
    "_uuid": "f7fe69bcd74e7a2639433b7ca219749ffbdb265e"
   },
   "outputs": [],
   "source": [
    "feature_imp = xgb.feature_importances_\n",
    "feature_imp"
   ]
  },
  {
   "cell_type": "markdown",
   "metadata": {
    "_uuid": "628da1da4125e3e9768b6fdcc02a4f571ab1d539"
   },
   "source": [
    "#### Plot feature importances"
   ]
  },
  {
   "cell_type": "code",
   "execution_count": null,
   "metadata": {
    "_uuid": "9bee76001ab4d5e131f200a4f4afa04d50db0f9d"
   },
   "outputs": [],
   "source": [
    "feature = pd.Series(feature_imp, X_train.columns).sort_values(ascending = False)\n",
    "plt.figure(figsize = (15,6))\n",
    "feature.plot(kind = 'bar', title = 'Feature Importance')"
   ]
  },
  {
   "cell_type": "code",
   "execution_count": null,
   "metadata": {
    "_uuid": "a436475f16eb9015af4c947fd0224763787c42c9"
   },
   "outputs": [],
   "source": [
    "XGB = pd.DataFrame(test_passengerId, columns = ['PassengerId']).assign(Survived = pd.Series(y_pred))\n",
    "#XGB.to_csv('../output/XGB.csv', index = None)"
   ]
  },
  {
   "cell_type": "markdown",
   "metadata": {
    "_uuid": "c3b257aa634a8f3b090cf50f14bd3f978a7c55d5"
   },
   "source": [
    "### Further work\n",
    "I've only used XGBoost here. You can apply other models also which gives good generalization for the dataset.\n",
    "Also, combination of two models can give more performance."
   ]
  },
  {
   "cell_type": "markdown",
   "metadata": {
    "_uuid": "3808b8d84384b84caad1df34f51713bc5befa781"
   },
   "source": [
    "This was my first kernel. Any kind of suggestion or appreciation is heartily welcomed. Also please UPVOTE it if you liked my work and found helpful to you.\n",
    "\n",
    "Thank you!"
   ]
  }
 ],
 "metadata": {
  "kernelspec": {
   "display_name": "Python 3",
   "language": "python",
   "name": "python3"
  },
  "language_info": {
   "codemirror_mode": {
    "name": "ipython",
    "version": 3
   },
   "file_extension": ".py",
   "mimetype": "text/x-python",
   "name": "python",
   "nbconvert_exporter": "python",
   "pygments_lexer": "ipython3",
   "version": "3.6.5"
  }
 },
 "nbformat": 4,
 "nbformat_minor": 1
}
